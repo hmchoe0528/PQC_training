{
 "cells": [
  {
   "cell_type": "markdown",
   "id": "92eeaa96-b76b-4317-82e8-573b8f1b4e40",
   "metadata": {},
   "source": [
    "# Module 8: Concrete Security"
   ]
  },
  {
   "cell_type": "markdown",
   "id": "79ea1635-b9bc-483a-b53b-ebb4c7e48e97",
   "metadata": {},
   "source": [
    "## Latice Estimator"
   ]
  },
  {
   "cell_type": "markdown",
   "id": "0a8252d4-4126-49b3-a951-23f5ed465168",
   "metadata": {
    "tags": []
   },
   "source": [
    "### LWE"
   ]
  },
  {
   "cell_type": "markdown",
   "id": "f4b4437f-094e-48a9-b916-72c4b6d9e22f",
   "metadata": {},
   "source": [
    "#### Basics"
   ]
  },
  {
   "cell_type": "code",
   "execution_count": 1,
   "id": "f1cd887e-068c-4486-824f-69af021bbe65",
   "metadata": {},
   "outputs": [],
   "source": [
    "from estimator import *\n",
    "from estimator.nd import NoiseDistribution, stddevf\n",
    "from estimator.lwe_parameters import LWEParameters\n",
    "from estimator.lwe import estimate"
   ]
  },
  {
   "cell_type": "code",
   "execution_count": 2,
   "id": "baa85e05-dcf2-47fc-ba80-0042f9adaa80",
   "metadata": {},
   "outputs": [
    {
     "name": "stdout",
     "output_type": "stream",
     "text": [
      "usvp                 :: rop: ≈2^52.0, red: ≈2^52.0, δ: 1.006744, β: 178, d: 466, tag: usvp\n",
      "dual_hybrid          :: rop: ≈2^51.8, red: ≈2^51.7, guess: ≈2^48.3, β: 177, p: 3, ζ: 0, t: 20, β': 177, N: ≈2^36.5, m: 256\n"
     ]
    }
   ],
   "source": [
    "MyParam = LWEParameters(n=256, q=1024, \n",
    "                Xs=NoiseDistribution.CenteredBinomial(3),\n",
    "                Xe=NoiseDistribution.SparseTernary(256, 40, 40),\n",
    "                m=256, \n",
    "                tag=\"MyParam\",\n",
    "                )\n",
    "r = LWE.estimate.rough(MyParam)\t\t# usvp & dual_hybrid only"
   ]
  },
  {
   "cell_type": "code",
   "execution_count": 3,
   "id": "c07cdf27-6cfb-4094-bf62-e380584d13f6",
   "metadata": {},
   "outputs": [
    {
     "name": "stdout",
     "output_type": "stream",
     "text": [
      "arora-gb             :: rop: ≈2^434.4, dreg: 54, mem: ≈2^272.5, t: 3, m: ≈2^169.9, tag: arora-gb, ↻: ≈2^161.9, ζ: 162, |S|: ≈2^92.3, prop: ≈2^-67.4\n",
      "bkw                  :: rop: ≈2^83.2, m: ≈2^72.6, mem: ≈2^73.6, b: 7, t1: 0, t2: 12, ℓ: 6, #cod: 212, #top: 0, #test: 44, tag: coded-bkw\n",
      "usvp                 :: rop: ≈2^79.7, red: ≈2^79.7, δ: 1.006744, β: 178, d: 466, tag: usvp\n",
      "bdd                  :: rop: ≈2^76.9, red: ≈2^75.8, svp: ≈2^75.9, β: 164, η: 194, d: 442, tag: bdd\n",
      "dual                 :: rop: ≈2^82.7, mem: ≈2^48.9, m: 234, β: 185, d: 490, ↻: 1, tag: dual\n",
      "dual_hybrid          :: rop: ≈2^76.3, red: ≈2^76.2, guess: ≈2^71.8, β: 161, p: 3, ζ: 15, t: 20, β': 177, N: ≈2^36.3, m: 256\n"
     ]
    }
   ],
   "source": [
    "r = LWE.estimate(MyParam)\t\t# more attacks"
   ]
  },
  {
   "cell_type": "markdown",
   "id": "b4d48dd4-618c-45fc-bd67-e87277951468",
   "metadata": {},
   "source": [
    "<b>Remark.</b>\n",
    "Beta prime (β') is (possibly) reduced BKZ block size due to \"Dimension for free\" technique: Léo Ducas, Shortest Vector from Lattice Sieving: a Few Dimensions for Free, Eurocrypt 2018. "
   ]
  },
  {
   "cell_type": "markdown",
   "id": "2d3db796-833b-410a-ba08-5b033bdeeef2",
   "metadata": {},
   "source": [
    "#### Cost Models"
   ]
  },
  {
   "cell_type": "code",
   "execution_count": 4,
   "id": "e978ab18-fe05-42df-b8f4-63d30d37a1d3",
   "metadata": {},
   "outputs": [],
   "source": [
    "from estimator.reduction import *"
   ]
  },
  {
   "cell_type": "code",
   "execution_count": 5,
   "id": "5e51c7f0-0189-4b2b-916d-ba31901f34cf",
   "metadata": {},
   "outputs": [
    {
     "name": "stdout",
     "output_type": "stream",
     "text": [
      "arora-gb             :: rop: ≈2^434.4, dreg: 54, mem: ≈2^272.5, t: 3, m: ≈2^169.9, tag: arora-gb, ↻: ≈2^161.9, ζ: 162, |S|: ≈2^92.3, prop: ≈2^-67.4\n",
      "bkw                  :: rop: ≈2^83.2, m: ≈2^72.6, mem: ≈2^73.6, b: 7, t1: 0, t2: 12, ℓ: 6, #cod: 212, #top: 0, #test: 44, tag: coded-bkw\n",
      "usvp                 :: rop: ≈2^52.0, red: ≈2^52.0, δ: 1.006744, β: 178, d: 466, tag: usvp\n",
      "bdd                  :: rop: ≈2^53.0, red: ≈2^52.0, svp: ≈2^52.0, β: 178, η: 178, d: 467, tag: bdd\n",
      "dual                 :: rop: ≈2^56.1, mem: ≈2^47.4, m: 240, β: 192, d: 496, ↻: 1, tag: dual\n",
      "dual_hybrid          :: rop: ≈2^51.8, red: ≈2^51.7, guess: ≈2^48.3, β: 177, p: 3, ζ: 0, t: 20, β': 177, N: ≈2^36.5, m: 256\n"
     ]
    }
   ],
   "source": [
    "r = LWE.estimate(MyParam, red_cost_model=ADPS16(\"classical\"))"
   ]
  },
  {
   "cell_type": "code",
   "execution_count": 6,
   "id": "702dd565-76a2-49a0-bd8f-883461d2e339",
   "metadata": {},
   "outputs": [
    {
     "name": "stdout",
     "output_type": "stream",
     "text": [
      "usvp        : 52.0\n",
      "bdd         : 52.0\n",
      "dual        : 56.1\n",
      "dual_hybrid : 51.7\n"
     ]
    }
   ],
   "source": [
    "# Check Core-SVP\n",
    "print(\"usvp        :\", numerical_approx(0.292*178, digits=3))\n",
    "print(\"bdd         :\", numerical_approx(0.292*178, digits=3))\n",
    "print(\"dual        :\", numerical_approx(0.292*192, digits=3))\n",
    "print(\"dual_hybrid :\", numerical_approx(0.292*177, digits=3))"
   ]
  },
  {
   "cell_type": "code",
   "execution_count": 7,
   "id": "bc5b1e15-48e7-40e5-ae24-685c4a421662",
   "metadata": {},
   "outputs": [
    {
     "name": "stdout",
     "output_type": "stream",
     "text": [
      "arora-gb             :: rop: ≈2^434.4, dreg: 54, mem: ≈2^272.5, t: 3, m: ≈2^169.9, tag: arora-gb, ↻: ≈2^161.9, ζ: 162, |S|: ≈2^92.3, prop: ≈2^-67.4\n",
      "bkw                  :: rop: ≈2^83.2, m: ≈2^72.6, mem: ≈2^73.6, b: 7, t1: 0, t2: 12, ℓ: 6, #cod: 212, #top: 0, #test: 44, tag: coded-bkw\n",
      "usvp                 :: rop: ≈2^47.2, red: ≈2^47.2, δ: 1.006744, β: 178, d: 466, tag: usvp\n",
      "bdd                  :: rop: ≈2^48.2, red: ≈2^47.2, svp: ≈2^47.2, β: 178, η: 178, d: 467, tag: bdd\n",
      "dual                 :: rop: ≈2^50.9, mem: ≈2^47.4, m: 240, β: 192, d: 496, ↻: 1, tag: dual\n",
      "dual_hybrid          :: rop: ≈2^48.3, red: ≈2^47.7, guess: ≈2^46.7, β: 180, p: 2, ζ: 0, t: 25, β': 180, N: ≈2^37.0, m: 256\n"
     ]
    }
   ],
   "source": [
    "r = LWE.estimate(MyParam, red_cost_model=ADPS16(\"quantum\"))"
   ]
  },
  {
   "cell_type": "code",
   "execution_count": 8,
   "id": "f4eecbe8-5797-444b-9754-f68cab8c9714",
   "metadata": {},
   "outputs": [
    {
     "name": "stdout",
     "output_type": "stream",
     "text": [
      "Algorithm functools.partial(<function dual at 0x7eb3f29885e0>, red_cost_model=<class 'estimator.reduction.ChaLoy21'>) on LWEParameters(n=256, q=1024, Xs=D(σ=0.56), Xe=D(σ=1.22), m=256, tag='MyParam') failed with _short_vectors_sieve() missing 1 required positional argument: 'self'\n",
      "Algorithm functools.partial(<estimator.lwe_dual.MATZOV object at 0x7eb3f298bf40>, red_cost_model=<class 'estimator.reduction.ChaLoy21'>) on LWEParameters(n=256, q=1024, Xs=D(σ=0.56), Xe=D(σ=1.22), m=256, tag='MyParam') failed with _short_vectors_sieve() missing 1 required positional argument: 'beta'\n",
      "arora-gb             :: rop: ≈2^434.4, dreg: 54, mem: ≈2^272.5, t: 3, m: ≈2^169.9, tag: arora-gb, ↻: ≈2^161.9, ζ: 162, |S|: ≈2^92.3, prop: ≈2^-67.4\n",
      "bkw                  :: rop: ≈2^83.2, m: ≈2^72.6, mem: ≈2^73.6, b: 7, t1: 0, t2: 12, ℓ: 6, #cod: 212, #top: 0, #test: 44, tag: coded-bkw\n",
      "usvp                 :: rop: ≈2^45.7, red: ≈2^45.7, δ: 1.006744, β: 178, d: 466, tag: usvp\n",
      "bdd                  :: rop: ≈2^46.7, red: ≈2^45.7, svp: ≈2^45.7, β: 178, η: 178, d: 467, tag: bdd\n"
     ]
    }
   ],
   "source": [
    "r = LWE.estimate(MyParam, red_cost_model=ChaLoy21)"
   ]
  },
  {
   "cell_type": "markdown",
   "id": "c5102c30-b904-4c82-8eb2-1dd622514e30",
   "metadata": {},
   "source": [
    "### SIS"
   ]
  },
  {
   "cell_type": "code",
   "execution_count": 9,
   "id": "a4d471a8-baed-455b-8277-7ca091eacfcc",
   "metadata": {},
   "outputs": [
    {
     "data": {
      "text/plain": [
       "rop: ≈2^47.0, red: ≈2^47.0, δ: 1.011391, β: 61, d: 276, tag: euclidean"
      ]
     },
     "execution_count": 9,
     "metadata": {},
     "output_type": "execute_result"
    }
   ],
   "source": [
    "params = SIS.Parameters(n=113, q=2048, length_bound=512, norm=2)\n",
    "SIS.lattice(params)"
   ]
  },
  {
   "cell_type": "code",
   "execution_count": 10,
   "id": "938706cd-bf36-4c6b-849a-690419115593",
   "metadata": {},
   "outputs": [
    {
     "data": {
      "text/plain": [
       "rop: ≈2^52.2, red: ≈2^51.1, sieve: ≈2^51.3, β: 76, η: 96, ζ: 101, d: 273, prob: 1, ↻: 1, tag: infinity"
      ]
     },
     "execution_count": 10,
     "metadata": {},
     "output_type": "execute_result"
    }
   ],
   "source": [
    "params = SIS.Parameters(n=113, q=2048, length_bound=50, norm=oo)\n",
    "SIS.lattice(params)"
   ]
  },
  {
   "cell_type": "markdown",
   "id": "9c0dbcb3-8d1d-4324-a0b9-fbb6153f1482",
   "metadata": {},
   "source": [
    "### NTRU"
   ]
  },
  {
   "cell_type": "code",
   "execution_count": 11,
   "id": "92c464e9-b41c-479b-bd51-cd21e06e6ba2",
   "metadata": {},
   "outputs": [
    {
     "data": {
      "text/plain": [
       "rop: ≈2^52.8, red: ≈2^52.8, δ: 1.010263, β: 80, d: 385, tag: usvp"
      ]
     },
     "execution_count": 11,
     "metadata": {},
     "output_type": "execute_result"
    }
   ],
   "source": [
    "params = NTRU.Parameters(n=200, q=7981, Xs=ND.UniformMod(3), Xe=ND.UniformMod(3))\n",
    "NTRU.primal_usvp(params, red_shape_model=\"gsa\")\n",
    "NTRU.primal_usvp(params, red_shape_model=Simulator.CN11)"
   ]
  },
  {
   "cell_type": "code",
   "execution_count": 12,
   "id": "0a25d58c-d116-4de0-8342-b582063efec8",
   "metadata": {},
   "outputs": [
    {
     "data": {
      "text/plain": [
       "rop: ≈2^67.3, red: ≈2^66.6, svp: ≈2^66.0, β: 79, η: 2, ζ: 44, |S|: ≈2^69.7, d: 356, prob: ≈2^-12.0, ↻: ≈2^14.2, tag: hybrid"
      ]
     },
     "execution_count": 12,
     "metadata": {},
     "output_type": "execute_result"
    }
   ],
   "source": [
    "NTRU.primal_hybrid(params, red_shape_model=Simulator.CN11)"
   ]
  },
  {
   "cell_type": "code",
   "execution_count": 13,
   "id": "1d00b8a9-6be7-4b5e-a026-715387ec7769",
   "metadata": {},
   "outputs": [
    {
     "data": {
      "text/plain": [
       "rop: ≈2^42.6, red: ≈2^42.6, δ: 1.012427, β: 43, d: 400, tag: dsd"
      ]
     },
     "execution_count": 13,
     "metadata": {},
     "output_type": "execute_result"
    }
   ],
   "source": [
    "params.possibly_overstretched\n",
    "NTRU.primal_dsd(params, red_shape_model=Simulator.ZGSA) "
   ]
  },
  {
   "cell_type": "code",
   "execution_count": 14,
   "id": "527fb2fe-91e2-4652-9bec-90913ce0b690",
   "metadata": {},
   "outputs": [
    {
     "data": {
      "text/plain": [
       "rop: ≈2^42.2, red: ≈2^42.2, δ: 1.012468, β: 42, d: 400, tag: dsd"
      ]
     },
     "execution_count": 14,
     "metadata": {},
     "output_type": "execute_result"
    }
   ],
   "source": [
    "NTRU.primal_dsd(params, red_shape_model=Simulator.CN11)"
   ]
  },
  {
   "cell_type": "markdown",
   "id": "57ab0fe9-1384-49ee-8707-6f274c690082",
   "metadata": {
    "tags": []
   },
   "source": [
    "## Kyber"
   ]
  },
  {
   "cell_type": "markdown",
   "id": "e609d0b0-a681-45b8-9d01-84de8c20cfca",
   "metadata": {},
   "source": [
    "### Parameters"
   ]
  },
  {
   "cell_type": "code",
   "execution_count": 15,
   "id": "d5de950d-e15e-4428-b1ad-80b058a4b31a",
   "metadata": {},
   "outputs": [],
   "source": [
    "n = 256\n",
    "q = 3329"
   ]
  },
  {
   "cell_type": "code",
   "execution_count": 16,
   "id": "d4373631-5c4f-447c-b7e0-888b3edf8380",
   "metadata": {},
   "outputs": [],
   "source": [
    "# Kyber512\n",
    "tag = \"Kyber512\"\n",
    "k = 2\n",
    "eta1 = 3\n",
    "eta2 = 3\n",
    "eta3 = 2 # ctxt error distribution for level 1, otherwise eta2=eta3\n",
    "d1 = 10\n",
    "d2 = 4"
   ]
  },
  {
   "cell_type": "code",
   "execution_count": 17,
   "id": "1ec0edda-7499-4364-b07c-40839087a3e0",
   "metadata": {},
   "outputs": [],
   "source": [
    "# Kyber768\n",
    "tag = \"Kyber768\"\n",
    "k = 3\n",
    "eta1 = 2\n",
    "eta2 = 2\n",
    "eta3 = 2\n",
    "d1 = 10\n",
    "d2 = 4"
   ]
  },
  {
   "cell_type": "code",
   "execution_count": 18,
   "id": "5b25868a-3792-47b2-93ae-b5d8d9cf663c",
   "metadata": {},
   "outputs": [],
   "source": [
    "# Kyber1024\n",
    "tag = \"Kyber1024\"\n",
    "k = 4\n",
    "eta1 = 2\n",
    "eta2 = 2\n",
    "eta3 = 2\n",
    "d1 = 11\n",
    "d2 = 5 "
   ]
  },
  {
   "cell_type": "markdown",
   "id": "7e448958-9056-4c26-9a7b-7f2dbbd3f514",
   "metadata": {},
   "source": [
    "### Security Estimation"
   ]
  },
  {
   "cell_type": "code",
   "execution_count": 19,
   "id": "9455202d-b37c-4d56-97a3-5c9ef33c90fb",
   "metadata": {},
   "outputs": [],
   "source": [
    "Kyber = LWEParameters(n=n*k, q=q, \n",
    "                \tXs=NoiseDistribution.CenteredBinomial(eta1),\n",
    "                \tXe=NoiseDistribution.CenteredBinomial(eta2),\n",
    "                \tm=n*(k+1), tag=tag)"
   ]
  },
  {
   "cell_type": "code",
   "execution_count": 20,
   "id": "a3500bf1-18ef-463d-930c-57a90805cc67",
   "metadata": {},
   "outputs": [
    {
     "name": "stdout",
     "output_type": "stream",
     "text": [
      "*Kyber1024*\n",
      "bkw                  :: rop: ≈2^310.5, m: ≈2^296.8, mem: ≈2^296.7, b: 25, t1: 0, t2: 18, ℓ: 24, #cod: 897, #top: 0, #test: 129, tag: coded-bkw\n",
      "usvp                 :: rop: ≈2^255.2, red: ≈2^255.2, δ: 1.002262, β: 874, d: 1867, tag: usvp\n",
      "bdd                  :: rop: ≈2^256.1, red: ≈2^254.9, svp: ≈2^255.2, β: 873, η: 874, d: 1885, tag: bdd\n",
      "dual                 :: rop: ≈2^264.0, mem: ≈2^197.4, m: 918, β: 904, d: 1942, ↻: 1, tag: dual\n",
      "dual_hybrid          :: rop: ≈2^241.8, red: ≈2^241.2, guess: ≈2^240.1, β: 826, p: 4, ζ: 0, t: 110, β': 826, N: ≈2^171.4, m: 1024\n"
     ]
    }
   ],
   "source": [
    "print(\"*\"+tag+\"*\")\n",
    "r = LWE.estimate(Kyber, red_cost_model=ADPS16(\"classical\"))"
   ]
  },
  {
   "cell_type": "markdown",
   "id": "4ca551f8-de1e-4086-83e2-5ea0f32b6e48",
   "metadata": {},
   "source": [
    "### Decryption Failures"
   ]
  },
  {
   "cell_type": "code",
   "execution_count": 21,
   "id": "c754ca96-fb7b-425e-a11d-56779ea1159e",
   "metadata": {},
   "outputs": [
    {
     "name": "stderr",
     "output_type": "stream",
     "text": [
      "/home/hyeongmin/PQC_training/module8/crystals/proba_util.py:6: DeprecationWarning: invalid escape sequence \\s\n",
      "  \"\"\" Weight of the gaussian of std deviation s, on the interval [-t, t]\n"
     ]
    }
   ],
   "source": [
    "from crystals import *\n",
    "import operator as op\n",
    "from math import factorial as fac\n",
    "from math import sqrt, log\n",
    "import sys\n",
    "from crystals.proba_util import *"
   ]
  },
  {
   "cell_type": "code",
   "execution_count": 22,
   "id": "5ff1944e-8281-41d6-853d-4f45ac790cfd",
   "metadata": {},
   "outputs": [
    {
     "name": "stdout",
     "output_type": "stream",
     "text": [
      "*Kyber1024*\n",
      "DFP: -175.19606603970226\n"
     ]
    }
   ],
   "source": [
    "# MLWE secrets in pk (s) and cttxt (r)   : CBD(eta1)\n",
    "# MLWE errors in pk (e) and ctxt (e1, e2): CBD(eta2), CBD(eta2), CBD(eta3)\n",
    "# Initialize secrets and errors\n",
    "Ds = build_centered_binomial_law(eta1)      # equal to Dr\n",
    "De = build_centered_binomial_law(eta2)      # equal to De1, De2\n",
    "De1 = build_centered_binomial_law(eta3)     # equal to De2\n",
    "\n",
    "# Compression errors in ctxt (c1, c2), \n",
    "# each are ModSwitch errors from q to 2^d1 and 2^d2\n",
    "Dc1 = build_mod_switching_error_law(q, 2**d1)\n",
    "Dc2 = build_mod_switching_error_law(q, 2**d2)\n",
    "\n",
    "# Combinations\n",
    "# e*r + e2 + c2 - s*e1 - s*c1\n",
    "# We ignore the publlic key compression noise, which is small\n",
    "Dc1_e1 = law_convolution(Dc1, De1)                              # c1+e1\n",
    "Der = iter_law_convolution(law_product(De, Ds), n*k)            # er\n",
    "Dse1_sc1 = iter_law_convolution(law_product(Ds, Dc1_e1), n*k)   # se1+sc1\n",
    "\n",
    "D = law_convolution(Der, Dse1_sc1)      # er-se1-sc1\n",
    "D = law_convolution(D, De1)             # er+e2-se1-sc1\n",
    "D = law_convolution(D, Dc2)             # final\n",
    "\n",
    "prob = tail_probability(D, q/4)\n",
    "\n",
    "print(\"*\"+tag+\"*\")\n",
    "print(\"DFP:\", log(n*prob)/log(2))"
   ]
  },
  {
   "cell_type": "markdown",
   "id": "ad4bdc63-7c4f-49a5-bf23-385696747fe1",
   "metadata": {},
   "source": [
    "## Smaug"
   ]
  },
  {
   "cell_type": "markdown",
   "id": "6bfb9780-2149-403a-aab0-0ca9c24203fd",
   "metadata": {},
   "source": [
    "### Parameters"
   ]
  },
  {
   "cell_type": "code",
   "execution_count": 23,
   "id": "31e7e2be-4e75-40ed-9f9e-121055af63b1",
   "metadata": {},
   "outputs": [],
   "source": [
    "n = 256\n",
    "sigma = 1.0625"
   ]
  },
  {
   "cell_type": "code",
   "execution_count": 24,
   "id": "9c49adb0-b91f-4892-8ae1-e54331498086",
   "metadata": {},
   "outputs": [],
   "source": [
    "# Smaug512\n",
    "tag = \"Smaug512\"\n",
    "k = 2\n",
    "q = 1024\n",
    "p = 256\n",
    "pp = 32\n",
    "h = 140\n",
    "numCBD = 2"
   ]
  },
  {
   "cell_type": "code",
   "execution_count": 25,
   "id": "68c6841c-372d-4737-847e-68d414aa05fa",
   "metadata": {},
   "outputs": [],
   "source": [
    "# Smaug768\n",
    "tag = \"Smaug768\"\n",
    "k = 3\n",
    "q = 2048\n",
    "p = 512\n",
    "pp = 16\n",
    "h = 264\n",
    "numCBD = 4"
   ]
  },
  {
   "cell_type": "code",
   "execution_count": 26,
   "id": "0570a89f-17d8-4068-8609-c5d186110932",
   "metadata": {},
   "outputs": [],
   "source": [
    "# Smaug512\n",
    "tag = \"Smaug512\"\n",
    "k = 4\n",
    "q = 2048\n",
    "p = 512\n",
    "pp = 128\n",
    "h = 348\n",
    "numCBD = 3"
   ]
  },
  {
   "cell_type": "markdown",
   "id": "d0822df4-85a9-4f02-8aa3-20a751004c32",
   "metadata": {},
   "source": [
    "### Security Estimate"
   ]
  },
  {
   "cell_type": "markdown",
   "id": "d5ba2e9c-a8c2-4670-bd35-311206787ddb",
   "metadata": {},
   "source": [
    "Define 'ModifiedCBD' in “estimator/nd.py”:\n",
    "\n",
    "    @staticmethod\n",
    "    def ModifiedCBD(numCBD, n=None):\n",
    "        #if numCBD == 1:\n",
    "        #    # -1: 1/16, 0: 14/16, 1: 1/16\n",
    "        if numCBD == 2:\n",
    "            # -1: 1/8, 0: 3/4, 1: 1/8\n",
    "            # mean = 0, stddev**2 = 1/8*1*2 = 1/4\n",
    "            D = NoiseDistribution(n=n, stddev=RR(1/2), mean=RR(0), density=1/RR(4), bounds=(-1, 1), tag=\"modifiedCBD\")\n",
    "        elif numCBD == 3:\n",
    "            # -1: 3/16, 0: 5/8, 1: 3/16\n",
    "            # mean = 0, stddev**2 = 3/16*1*2 = 3/8\n",
    "            D = NoiseDistribution(n=n, stddev=sqrt(3/RR(8)), mean=RR(0), density=3/RR(8), bounds=(-1, 1), tag=\"modifiedCBD\")\n",
    "        elif numCBD == 4:\n",
    "            D = NoiseDistribution.CenteredBinomial(1)\n",
    "        return D"
   ]
  },
  {
   "cell_type": "code",
   "execution_count": 27,
   "id": "f4fe1773-b5e8-4e07-9583-420346734253",
   "metadata": {},
   "outputs": [],
   "source": [
    "Smaug_LWE = LWEParameters(n=n*k, q=q, \n",
    "                \tXs=NoiseDistribution.SparseTernary(n*k, h/2, h/2),\n",
    "                \tXe=NoiseDistribution.DiscreteGaussian(sigma),\n",
    "                \tm=n*k, tag=tag+\"LWE\")\n",
    "\n",
    "Smaug_LWR = LWEParameters(n=n*k, q=q, \n",
    "                \tXs=NoiseDistribution.ModifiedCBD(numCBD),\n",
    "                \tXe=NoiseDistribution.UniformMod(q/p),\n",
    "                \tm=n*(k+1), tag=tag+\"LWR\")"
   ]
  },
  {
   "cell_type": "code",
   "execution_count": 28,
   "id": "c4e4f5cf-0043-42ad-9977-327de90900f5",
   "metadata": {},
   "outputs": [
    {
     "name": "stdout",
     "output_type": "stream",
     "text": [
      "*Smaug512*\n",
      "arora-gb             :: rop: ≈2^inf, m: ≈2^752.1, dreg: 268, t: 4, mem: ≈2^inf, tag: arora-gb, ↻: ≈2^746.3, ζ: 677, |S|: ≈2^562.1, prop: ≈2^-182.0\n",
      "bkw                  :: rop: ≈2^269.0, m: ≈2^256.0, mem: ≈2^257.0, b: 23, t1: 0, t2: 16, ℓ: 22, #cod: 863, #top: 0, #test: 163, tag: coded-bkw\n",
      "usvp                 :: rop: ≈2^251.1, red: ≈2^251.1, δ: 1.002289, β: 860, d: 1749, tag: usvp\n",
      "bdd                  :: rop: ≈2^252.3, red: ≈2^251.4, svp: ≈2^251.1, β: 861, η: 860, d: 1731, tag: bdd\n",
      "dual                 :: rop: ≈2^260.5, mem: ≈2^194.9, m: 775, β: 892, d: 1799, ↻: 1, tag: dual\n",
      "dual_hybrid          :: rop: ≈2^231.5, red: ≈2^231.3, guess: ≈2^228.7, β: 792, p: 2, ζ: 25, t: 170, β': 792, N: ≈2^164.3, m: 1024\n"
     ]
    }
   ],
   "source": [
    "print(\"*\"+tag+\"*\")\n",
    "r = LWE.estimate(Smaug_LWE, red_cost_model=ADPS16(\"classical\"))"
   ]
  },
  {
   "cell_type": "code",
   "execution_count": 29,
   "id": "eb9c64d6-0d25-4ad5-9de9-471e4105291e",
   "metadata": {},
   "outputs": [
    {
     "name": "stdout",
     "output_type": "stream",
     "text": [
      "*Smaug512*\n",
      "Algorithm <estimator.lwe_bkw.CodedBKW object at 0x7eb3f2bc8d90> on LWEParameters(n=1024, q=2048, Xs=D(σ=0.61), Xe=D(σ=1.12, μ=-0.50), m=1280, tag='Smaug512LWR') failed with Amplifying for μ≠0 not implemented.\n",
      "arora-gb             :: rop: ≈2^inf, dreg: 158, mem: ≈2^inf, t: 2, m: ≈2^528.6, tag: arora-gb, ↻: ≈2^518.3, ζ: 491, |S|: ≈2^184.3, prop: ≈2^-331.8\n",
      "usvp                 :: rop: ≈2^254.9, red: ≈2^254.9, δ: 1.002264, β: 873, d: 1731, tag: usvp\n",
      "bdd                  :: rop: ≈2^255.8, red: ≈2^254.9, svp: ≈2^254.6, β: 873, η: 872, d: 1751, tag: bdd\n",
      "dual                 :: rop: ≈2^264.3, mem: ≈2^197.6, m: 784, β: 905, d: 1808, ↻: 1, tag: dual\n",
      "dual_hybrid          :: rop: ≈2^238.3, red: ≈2^238.3, guess: ≈2^232.4, β: 816, p: 2, ζ: 5, t: 205, β': 816, N: ≈2^168.6, m: 1024\n"
     ]
    }
   ],
   "source": [
    "print(\"*\"+tag+\"*\")\n",
    "r = LWE.estimate(Smaug_LWR, red_cost_model=ADPS16(\"classical\"))"
   ]
  },
  {
   "cell_type": "markdown",
   "id": "fdcf51da-fcac-48ce-a0b0-fee9d64353d4",
   "metadata": {},
   "source": [
    "### Decryption Failures"
   ]
  },
  {
   "cell_type": "markdown",
   "id": "391a9858-0cdd-4dae-8ccd-6a50cb7c56de",
   "metadata": {},
   "source": [
    "Define 'build_mCBD_law' in “crystals/proba_util.py”:\n",
    "\n",
    "    def build_mCBD_law(numCBD):\n",
    "        D = {}\n",
    "        D[-1] = numCBD/16.0\n",
    "        D[1] = numCBD/16.0\n",
    "        D[0] = 1.0-D[1]-D[-1]\n",
    "        return D"
   ]
  },
  {
   "cell_type": "code",
   "execution_count": 30,
   "id": "23682a7d-1129-4bf5-8fc5-e0bd6db1fd44",
   "metadata": {},
   "outputs": [
    {
     "name": "stdout",
     "output_type": "stream",
     "text": [
      "*Smaug512*\n",
      "-194.1604380337613\n"
     ]
    }
   ],
   "source": [
    "##############\n",
    "# initialize #\n",
    "##############\n",
    "# LWE error (dGaussian, sigma=1.0625)\n",
    "D_e = {-3: 7.0/1024, -2: 65.0/1024, -1: 247.0/1024, 0:384.0/1024, 1: 247.0/1024, 2: 65.0/1024, 3: 7.0/1024}\n",
    "\n",
    "# LWR secret (modifiedCBD)\n",
    "D_r = build_mCBD_law(numCBD)\n",
    "\n",
    "# LWR error for ctxt    (ModSwitch q->p and pp)\n",
    "D_e1 = build_mod_switching_error_law(q, p)\n",
    "D_e2 = build_mod_switching_error_law(q, pp)\n",
    "\n",
    "###########\n",
    "# combine #\n",
    "###########\n",
    "D_er = iter_law_convolution(law_product(D_e, D_r), k*n)    # <e, r>\n",
    "D_e1s = iter_law_convolution(D_e1, h)                      # <e1, s> = e1+...+e1, hs times.\n",
    "\n",
    "D_er_e1s = law_convolution(D_er, D_e1s)            # <e, r> + <e1, s>\n",
    "# convolution_remove_dependency(D_er, D_e1s, q, p) # <e, r> + <e1, s>\n",
    "\n",
    "D = law_convolution(D_er_e1s, D_e2)                # <e, r> + <e1, s> + e2\n",
    "\n",
    "prob = tail_probability(D, q/4.0)                  # Pr[ |<e, r> + <e1, s> + e2| > q/4 ]\n",
    "\n",
    "if prob!=0:\n",
    "    prob = log(n*prob,2)                           # for each n coefficients\n",
    "\n",
    "print(\"*\"+tag+\"*\")\n",
    "print(prob)"
   ]
  },
  {
   "cell_type": "markdown",
   "id": "6b2faa9a-45ac-4b01-b026-d67f8c4a82e4",
   "metadata": {},
   "source": [
    "## Falcon"
   ]
  },
  {
   "cell_type": "markdown",
   "id": "6a2cb6cb-01e2-424a-bbff-c7b5fc30fab8",
   "metadata": {},
   "source": [
    "### Parameters"
   ]
  },
  {
   "cell_type": "code",
   "execution_count": 31,
   "id": "d4e73423-94f9-4bfc-ae98-6bf02a24680a",
   "metadata": {},
   "outputs": [],
   "source": [
    "q = 12289.0"
   ]
  },
  {
   "cell_type": "code",
   "execution_count": 32,
   "id": "6339c0d2-cdda-40ec-8ee8-cb11e8bb10e3",
   "metadata": {},
   "outputs": [],
   "source": [
    "# Falcon512\n",
    "tag = \"Falcon512\"\n",
    "n = 512.0\n",
    "betaSquared=34034726\n",
    "Ran_KR = range(450, 460)\n",
    "Ran_Unf = range(405, 415)"
   ]
  },
  {
   "cell_type": "code",
   "execution_count": 33,
   "id": "dcb52647-262d-4c83-8784-01875651d143",
   "metadata": {},
   "outputs": [],
   "source": [
    "# Falcon1024\n",
    "tag = \"Falcon1024\"\n",
    "n = 1024.0\n",
    "betaSquared=70265242\n",
    "Ran_KR = range(930, 940)\n",
    "Ran_Unf = range(945, 955)"
   ]
  },
  {
   "cell_type": "markdown",
   "id": "3dfc9c1d-11a7-436e-abc5-ff6d74ea7de3",
   "metadata": {},
   "source": [
    "### Key Recovery"
   ]
  },
  {
   "cell_type": "code",
   "execution_count": 34,
   "id": "a940cc49-c435-443a-896d-598e8456b5e4",
   "metadata": {},
   "outputs": [
    {
     "name": "stdout",
     "output_type": "stream",
     "text": [
      "*Falcon1024*\n",
      "* B=930:: Left: 74.0100566051179    //   Right: 75.6922236079881 \n",
      "** Left < Right::  Attack failed!\n",
      "* B=931:: Left: 74.3527877254226    //   Right: 75.7329074182936 \n",
      "** Left < Right::  Attack failed!\n",
      "* B=932:: Left: 74.6965461770597    //   Right: 75.7735693849378 \n",
      "** Left < Right::  Attack failed!\n",
      "* B=933:: Left: 75.0413330571217    //   Right: 75.8142095430674 \n",
      "** Left < Right::  Attack failed!\n",
      "* B=934:: Left: 75.3871494598636    //   Right: 75.8548279277350 \n",
      "** Left < Right::  Attack failed!\n",
      "* B=935:: Left: 75.7339964767047    //   Right: 75.8954245738993 \n",
      "** Left < Right::  Attack failed!\n",
      "* B=936:: Left: 76.0818751962305    //   Right: 75.9359995164256 \n",
      "** Left > Right::  Attack cost: 273.312000000000\n",
      "* B=937:: Left: 76.4307867041942    //   Right: 75.9765527900861 \n",
      "** Left > Right::  Attack cost: 273.604000000000\n",
      "* B=938:: Left: 76.7807320835185    //   Right: 76.0170844295603 \n",
      "** Left > Right::  Attack cost: 273.896000000000\n",
      "* B=939:: Left: 77.1317124142972    //   Right: 76.0575944694351 \n",
      "** Left > Right::  Attack cost: 274.188000000000\n"
     ]
    }
   ],
   "source": [
    "# Falcon_Key_Recovery\n",
    "print(\"*\"+tag+\"*\")\n",
    "for B in Ran_KR:\n",
    "    # Attack succeed when Left > Right\n",
    "    # with attack costs 2^(0.292*B) [Core-SVP]\n",
    "    left = numerical_approx((B/2/pi/e)^(1-n/B)*sqrt(q))\n",
    "    right = numerical_approx(1.17*sqrt(3/4*B*q/2/n))\n",
    "    suc = (left>right)\n",
    "    print(\"* B=\"+str(B)+\":: Left:\", left, \"   //   Right:\", right, \"\\n** Left\", ('>' if suc else '<'), \"Right:: \", (\"Attack cost: \"+str(0.292*B) if suc else \"Attack failed!\"))"
   ]
  },
  {
   "cell_type": "markdown",
   "id": "ca4a0763-6013-4d37-b046-473738c6531b",
   "metadata": {},
   "source": [
    "### Signature Forgery"
   ]
  },
  {
   "cell_type": "code",
   "execution_count": 39,
   "id": "295a664e-4302-40e1-a64a-560841fc5cf3",
   "metadata": {},
   "outputs": [
    {
     "name": "stdout",
     "output_type": "stream",
     "text": [
      "*Falcon1024*\n",
      "* B=945:: Left: 8578.73564276405    //   Right: 8382.43651929438 \n",
      "** Left > Right::  Attack failed!\n",
      "* B=946:: Left: 8549.17114018353    //   Right: 8382.43651929438 \n",
      "** Left > Right::  Attack failed!\n",
      "* B=947:: Left: 8519.76034605765    //   Right: 8382.43651929438 \n",
      "** Left > Right::  Attack failed!\n",
      "* B=948:: Left: 8490.50223263106    //   Right: 8382.43651929438 \n",
      "** Left > Right::  Attack failed!\n",
      "* B=949:: Left: 8461.39578044934    //   Right: 8382.43651929438 \n",
      "** Left > Right::  Attack failed!\n",
      "* B=950:: Left: 8432.43997828092    //   Right: 8382.43651929438 \n",
      "** Left > Right::  Attack failed!\n",
      "* B=951:: Left: 8403.63382303983    //   Right: 8382.43651929438 \n",
      "** Left > Right::  Attack failed!\n",
      "* B=952:: Left: 8374.97631970925    //   Right: 8382.43651929438 \n",
      "** Left < Right::  Attack cost: 277.984000000000\n",
      "* B=953:: Left: 8346.46648126588    //   Right: 8382.43651929438 \n",
      "** Left < Right::  Attack cost: 278.276000000000\n",
      "* B=954:: Left: 8318.10332860517    //   Right: 8382.43651929438 \n",
      "** Left < Right::  Attack cost: 278.568000000000\n"
     ]
    }
   ],
   "source": [
    "# Falcon_Signature_Forgery\n",
    "print(\"*\"+tag+\"*\")\n",
    "for B in Ran_Unf:\n",
    "    # Attack succeed when Left < Right\n",
    "    # with attack costs 2^(0.292*B) [Core-SVP]\n",
    "    left = numerical_approx((B/2/pi/e)^(n/B)*sqrt(q))\n",
    "    right = numerical_approx(sqrt(betaSquared))\n",
    "    suc = (left<right)\n",
    "    print(\"* B=\"+str(B)+\":: Left:\", left, \"   //   Right:\", right, \"\\n** Left\", ('<' if suc else '>'), \"Right:: \", (\"Attack cost: \"+str(0.292*B) if suc else \"Attack failed!\"))"
   ]
  },
  {
   "cell_type": "markdown",
   "id": "68c4b8cc-20d4-4b22-9c25-3ad0ba3f3722",
   "metadata": {},
   "source": [
    "### Key Recovery (lattice estimator)"
   ]
  },
  {
   "cell_type": "code",
   "execution_count": 35,
   "id": "23d309ad-c7f6-42ea-a5ce-f54037a46ef6",
   "metadata": {},
   "outputs": [
    {
     "data": {
      "text/plain": [
       "NTRUParameters(n=512, q=12289, Xs=D(σ=4.05), Xe=D(σ=4.05), m=512, tag='Falcon512_SKR', ntru_type='circulant')"
      ]
     },
     "execution_count": 35,
     "metadata": {},
     "output_type": "execute_result"
    }
   ],
   "source": [
    "schemes.Falcon512_SKR"
   ]
  },
  {
   "cell_type": "code",
   "execution_count": 36,
   "id": "f046b047-082a-4ebb-9cde-8bb09f628fb9",
   "metadata": {
    "jupyter": {
     "source_hidden": true
    },
    "tags": []
   },
   "outputs": [
    {
     "name": "stdout",
     "output_type": "stream",
     "text": [
      "usvp                 :: rop: ≈2^141.0, red: ≈2^141.0, δ: 1.003489, β: 483, d: 1020, tag: usvp\n",
      "bdd                  :: rop: ≈2^141.6, red: ≈2^140.5, svp: ≈2^140.7, β: 481, η: 482, d: 1022, tag: bdd\n",
      "bdd_hybrid           :: rop: ≈2^141.5, red: ≈2^140.5, svp: ≈2^140.5, β: 481, η: 481, ζ: 0, |S|: 1, d: 1024, prob: 1, ↻: 1, tag: hybrid\n",
      "bdd_mitm_hybrid      :: rop: ≈2^325.2, red: ≈2^325.2, svp: ≈2^204.8, β: 481, η: 2, ζ: 0, |S|: 1, d: 1024, prob: ≈2^-182.6, ↻: ≈2^184.8, tag: hybrid\n"
     ]
    }
   ],
   "source": [
    "r = NTRU.estimate(schemes.Falcon512_SKR, red_cost_model=ADPS16(\"classical\"))"
   ]
  },
  {
   "cell_type": "code",
   "execution_count": 37,
   "id": "a01e21ed-69e4-423b-9e7f-f94842bb6a57",
   "metadata": {},
   "outputs": [
    {
     "data": {
      "text/plain": [
       "NTRUParameters(n=1024, q=12289, Xs=D(σ=2.87), Xe=D(σ=2.87), m=1024, tag='Falcon1024_SKR', ntru_type='circulant')"
      ]
     },
     "execution_count": 37,
     "metadata": {},
     "output_type": "execute_result"
    }
   ],
   "source": [
    "schemes.Falcon1024_SKR"
   ]
  },
  {
   "cell_type": "code",
   "execution_count": 38,
   "id": "e1e8681e-b959-4ba0-8658-edfe7311cd36",
   "metadata": {
    "tags": []
   },
   "outputs": [
    {
     "name": "stdout",
     "output_type": "stream",
     "text": [
      "usvp                 :: rop: ≈2^284.4, red: ≈2^284.4, δ: 1.002084, β: 974, d: 2047, tag: usvp\n",
      "bdd                  :: rop: ≈2^285.1, red: ≈2^284.1, svp: ≈2^284.1, β: 973, η: 973, d: 2046, tag: bdd\n",
      "bdd_hybrid           :: rop: ≈2^285.1, red: ≈2^284.1, svp: ≈2^284.1, β: 973, η: 973, ζ: 0, |S|: 1, d: 2048, prob: 1, ↻: 1, tag: hybrid\n",
      "bdd_mitm_hybrid      :: rop: ≈2^756.3, red: ≈2^756.3, svp: ≈2^494.2, β: 973, η: 2, ζ: 0, |S|: 1, d: 2048, prob: ≈2^-470.0, ↻: ≈2^472.2, tag: hybrid\n"
     ]
    }
   ],
   "source": [
    "r = NTRU.estimate(schemes.Falcon1024_SKR, red_cost_model=ADPS16(\"classical\"))"
   ]
  },
  {
   "cell_type": "markdown",
   "id": "f0d0cb14-507f-4dc3-81b2-551ebdda9e00",
   "metadata": {},
   "source": [
    "### Signature Forgery (lattice estimator)"
   ]
  },
  {
   "cell_type": "code",
   "execution_count": 40,
   "id": "aa498572-45b5-4116-ba90-5e35129f24f7",
   "metadata": {},
   "outputs": [
    {
     "data": {
      "text/plain": [
       "SISParameters(n=512, q=12289, length_bound=5833.9072, m=1024, norm=2, tag='Falcon512_Unf')"
      ]
     },
     "execution_count": 40,
     "metadata": {},
     "output_type": "execute_result"
    }
   ],
   "source": [
    "schemes.Falcon512_Unf"
   ]
  },
  {
   "cell_type": "code",
   "execution_count": 41,
   "id": "7f9fdafb-470f-4df1-8a07-b6be6c41777d",
   "metadata": {},
   "outputs": [
    {
     "name": "stdout",
     "output_type": "stream",
     "text": [
      "lattice  :: rop: ≈2^121.2, red: ≈2^121.2, δ: 1.003882, β: 415, d: 1024, tag: euclidean\n"
     ]
    }
   ],
   "source": [
    "r = SIS.estimate(schemes.Falcon512_Unf, red_cost_model=ADPS16(\"classical\"))"
   ]
  },
  {
   "cell_type": "code",
   "execution_count": 42,
   "id": "7c73de61-8ff7-4596-bddc-d2a3aac24c10",
   "metadata": {},
   "outputs": [
    {
     "data": {
      "text/plain": [
       "SISParameters(n=1024, q=12289, length_bound=8382.4081, m=2048, norm=2, tag='Falcon1024_Unf')"
      ]
     },
     "execution_count": 42,
     "metadata": {},
     "output_type": "execute_result"
    }
   ],
   "source": [
    "schemes.Falcon1024_Unf"
   ]
  },
  {
   "cell_type": "code",
   "execution_count": 43,
   "id": "8443d472-201a-4648-ac51-119d73483308",
   "metadata": {
    "tags": []
   },
   "outputs": [
    {
     "name": "stdout",
     "output_type": "stream",
     "text": [
      "lattice  :: rop: ≈2^279.2, red: ≈2^279.2, δ: 1.002114, β: 956, d: 2048, tag: euclidean\n"
     ]
    }
   ],
   "source": [
    "r = SIS.estimate(schemes.Falcon1024_Unf, red_cost_model=ADPS16(\"classical\"))"
   ]
  },
  {
   "cell_type": "markdown",
   "id": "36c1c5fb-536a-4fea-bb69-2bd81ba1eadc",
   "metadata": {},
   "source": [
    "## Dilithium"
   ]
  },
  {
   "cell_type": "markdown",
   "id": "1de160d6-0118-415b-866c-3a358ea19f6a",
   "metadata": {},
   "source": [
    "### Parameters"
   ]
  },
  {
   "cell_type": "code",
   "execution_count": 44,
   "id": "bcfe246c-b529-4345-a0e6-610c40bec750",
   "metadata": {},
   "outputs": [],
   "source": [
    "n = 256\n",
    "q = 8380417\n",
    "d = 13"
   ]
  },
  {
   "cell_type": "code",
   "execution_count": 45,
   "id": "d154cbf1-1f2f-4977-a17f-30626608132d",
   "metadata": {},
   "outputs": [],
   "source": [
    "# Dilithium2\n",
    "tag = \"Dilithium2\"\n",
    "k = 4\n",
    "l = 4\n",
    "eta = 4\n",
    "tau = 39\n",
    "gamma1 = 2**17\n",
    "gamma2 = (q-1)/88"
   ]
  },
  {
   "cell_type": "code",
   "execution_count": 62,
   "id": "06c5064d-266b-4205-9376-e1703c9ddcaa",
   "metadata": {},
   "outputs": [],
   "source": [
    "# Dilithium3\n",
    "tag = \"Dilithium3\"\n",
    "k = 6\n",
    "l = 5\n",
    "eta = 2\n",
    "tau = 49\n",
    "gamma1 = 2**19\n",
    "gamma2 = (q-1)/32"
   ]
  },
  {
   "cell_type": "code",
   "execution_count": 47,
   "id": "6d3a0d74-68c5-434f-a16a-38f4692fc04e",
   "metadata": {},
   "outputs": [],
   "source": [
    "# Dilithium5\n",
    "tag = \"Dilithium5\"\n",
    "k = 8\n",
    "l = 7\n",
    "eta = 2\n",
    "tau = 60\n",
    "gamma1 = 2**19\n",
    "gamma2 = (q-1)/32"
   ]
  },
  {
   "cell_type": "markdown",
   "id": "7739a65d-c764-492b-9356-471bd69e0eab",
   "metadata": {},
   "source": [
    "### Key Recovery"
   ]
  },
  {
   "cell_type": "code",
   "execution_count": 63,
   "id": "633aa8a1-d7bd-490b-812c-5154efd46a4c",
   "metadata": {},
   "outputs": [
    {
     "name": "stdout",
     "output_type": "stream",
     "text": [
      "*Dilithium3*\n",
      "bkw                  :: rop: ≈2^386.8, m: ≈2^372.2, mem: ≈2^373.2, b: 16, t1: 0, t2: 37, ℓ: 15, #cod: 1420, #top: 0, #test: 123, tag: coded-bkw\n",
      "usvp                 :: rop: ≈2^209.9, red: ≈2^209.9, δ: 1.002615, β: 719, d: 2810, tag: usvp\n",
      "bdd                  :: rop: ≈2^210.8, red: ≈2^209.9, svp: ≈2^209.7, β: 719, η: 718, d: 2816, tag: bdd\n",
      "dual                 :: rop: ≈2^214.6, mem: ≈2^162.0, m: 1280, β: 735, d: 2816, ↻: 1, tag: dual\n",
      "dual_hybrid          :: rop: ≈2^203.1, red: ≈2^202.9, guess: ≈2^199.7, β: 695, p: 5, ζ: 10, t: 65, β': 695, N: ≈2^143.7, m: 1536\n"
     ]
    }
   ],
   "source": [
    "Dilithium_KR = LWEParameters(n=n*k, q=q, \n",
    "                \tXs=NoiseDistribution.Uniform(-eta,eta),\n",
    "                \tXe=NoiseDistribution.Uniform(-eta,eta),\n",
    "                \tm=n*l, tag=tag)\n",
    "\n",
    "print(\"*\"+tag+\"*\")\n",
    "r=LWE.estimate(Dilithium_KR, red_cost_model=ADPS16(\"classical\"))"
   ]
  },
  {
   "cell_type": "markdown",
   "id": "98e5a8b0-2494-4b29-b783-899e2bf9824c",
   "metadata": {},
   "source": [
    "### Signature Forgery"
   ]
  },
  {
   "cell_type": "code",
   "execution_count": 64,
   "id": "2118cbc4-63d5-4827-b875-7f6494f4abe6",
   "metadata": {},
   "outputs": [
    {
     "name": "stdout",
     "output_type": "stream",
     "text": [
      "*Dilithium3*\n",
      "SelfTargetMSIS bound: 724481\n",
      "MSIS bound: 1048380\n"
     ]
    }
   ],
   "source": [
    "beta = tau*eta\n",
    "zeta = max(gamma1-beta, 2*gamma2 + 1 + 2**(d-1)*tau)\n",
    "zetap = max(2*(gamma1-beta), 4*gamma2+2)\n",
    "\n",
    "print(\"*\"+tag+\"*\")\n",
    "print(\"SelfTargetMSIS bound:\", zeta)\n",
    "print(\"MSIS bound:\", zetap)"
   ]
  },
  {
   "cell_type": "code",
   "execution_count": 65,
   "id": "b7549545-52e5-4916-8915-97d0f85fc934",
   "metadata": {},
   "outputs": [
    {
     "name": "stdout",
     "output_type": "stream",
     "text": [
      "*Dilithium3: WeakUnf*\n",
      "lattice  :: rop: ≈2^187.2, red: ≈2^187.2, sieve: ≈2^-332.2, β: 641, η: 641, ζ: 1, d: 2815, prob: 1, ↻: 1, tag: infinity\n"
     ]
    }
   ],
   "source": [
    "WeakUnf = SIS.Parameters(\n",
    "    n=n*k,\n",
    "    q=q,\n",
    "    length_bound=zeta,\n",
    "    m=n*(k+l),\n",
    "    norm=oo,\n",
    "    tag=\"WeakUnf\"\n",
    ")\n",
    "\n",
    "print(\"*\"+tag+\": WeakUnf*\")\n",
    "r = SIS.estimate(WeakUnf, red_cost_model=ADPS16(\"classical\"))"
   ]
  },
  {
   "cell_type": "code",
   "execution_count": 66,
   "id": "475f13c6-16d2-476f-a440-b4ba4b6b0499",
   "metadata": {},
   "outputs": [
    {
     "name": "stdout",
     "output_type": "stream",
     "text": [
      "*Dilithium3: StrongUnf*\n",
      "lattice  :: rop: ≈2^176.1, red: ≈2^176.1, sieve: ≈2^-332.2, β: 603, η: 603, ζ: 1, d: 2815, prob: 1, ↻: 1, tag: infinity\n"
     ]
    }
   ],
   "source": [
    "StrongUnf = SIS.Parameters(\n",
    "    n=n*k,\n",
    "    q=q,\n",
    "    length_bound=zetap,\n",
    "    m=n*(k+l),\n",
    "    norm=oo,\n",
    "    tag=\"StrongUnf\"\n",
    ")\n",
    "\n",
    "print(\"*\"+tag+\": StrongUnf*\")\n",
    "r = SIS.estimate(StrongUnf, red_cost_model=ADPS16(\"classical\"))"
   ]
  },
  {
   "cell_type": "markdown",
   "id": "43ef113f-1bb0-49a0-98b5-c175af33c459",
   "metadata": {},
   "source": [
    "### Challenge Entropy"
   ]
  },
  {
   "cell_type": "code",
   "execution_count": 68,
   "id": "8041d4e3-c092-44b5-9589-d004b7b1229d",
   "metadata": {},
   "outputs": [
    {
     "name": "stdout",
     "output_type": "stream",
     "text": [
      "*Dilithium3*\n",
      "Challenge Entropy: 225.345006273915\n"
     ]
    }
   ],
   "source": [
    "# Challenge Entropy\n",
    "# Challenge has a Hamming weight of tau, and each coeff is 0 or +-1\n",
    "# Thus, |challenge space| = (n choose tau)*2^tau\n",
    "print(\"*\"+tag+\"*\")\n",
    "print(\"Challenge Entropy:\", numerical_approx(log(binomial(n, tau))/log(2)+tau))"
   ]
  },
  {
   "cell_type": "markdown",
   "id": "deb268a7-dc48-4bc2-9245-105bcbd8ab05",
   "metadata": {},
   "source": [
    "### Signature Forgery (lattice estimator)"
   ]
  },
  {
   "cell_type": "code",
   "execution_count": 52,
   "id": "3ec40fb3-1660-4acd-8c3d-629f7b5adfb8",
   "metadata": {},
   "outputs": [
    {
     "data": {
      "text/plain": [
       "SISParameters(n=1024, q=8380417, length_bound=350209, m=2304, norm=+Infinity, tag='Dilithium2_MSIS_WkUnf')"
      ]
     },
     "execution_count": 52,
     "metadata": {},
     "output_type": "execute_result"
    }
   ],
   "source": [
    "schemes.Dilithium2_MSIS_WkUnf"
   ]
  },
  {
   "cell_type": "code",
   "execution_count": 53,
   "id": "f596a5a4-cc35-4269-9af6-a594dc0b2162",
   "metadata": {},
   "outputs": [
    {
     "name": "stdout",
     "output_type": "stream",
     "text": [
      "lattice  :: rop: ≈2^152.2, red: ≈2^151.3, sieve: ≈2^151.1, β: 427, η: 433, ζ: 0, d: 2304, prob: 1, ↻: 1, tag: infinity\n"
     ]
    }
   ],
   "source": [
    "r = SIS.estimate(schemes.Dilithium2_MSIS_WkUnf)"
   ]
  },
  {
   "cell_type": "code",
   "execution_count": 54,
   "id": "359d1db5-1995-42b3-96ae-2004c8c37ea4",
   "metadata": {},
   "outputs": [
    {
     "name": "stdout",
     "output_type": "stream",
     "text": [
      "lattice  :: rop: ≈2^123.5, red: ≈2^123.5, sieve: ≈2^-332.2, β: 423, η: 423, ζ: 119, d: 2185, prob: 1, ↻: 1, tag: infinity\n"
     ]
    }
   ],
   "source": [
    "r = SIS.estimate(schemes.Dilithium2_MSIS_WkUnf, red_cost_model=ADPS16(\"classical\"))"
   ]
  },
  {
   "cell_type": "code",
   "execution_count": 55,
   "id": "6edb6f3e-370b-4460-961e-4344a978daa2",
   "metadata": {},
   "outputs": [
    {
     "data": {
      "text/plain": [
       "SISParameters(n=1024, q=8380417, length_bound=380929, m=2304, norm=+Infinity, tag='Dilithium2_MSIS_StrUnf')"
      ]
     },
     "execution_count": 55,
     "metadata": {},
     "output_type": "execute_result"
    }
   ],
   "source": [
    "schemes.Dilithium2_MSIS_StrUnf "
   ]
  },
  {
   "cell_type": "code",
   "execution_count": 56,
   "id": "b1e08aee-a6ea-4a9a-b194-3d9ab0cfe8bc",
   "metadata": {},
   "outputs": [
    {
     "name": "stdout",
     "output_type": "stream",
     "text": [
      "lattice  :: rop: ≈2^150.8, red: ≈2^149.6, sieve: ≈2^149.9, β: 421, η: 429, ζ: 0, d: 2304, prob: 1, ↻: 1, tag: infinity\n"
     ]
    }
   ],
   "source": [
    "r = SIS.estimate(schemes.Dilithium2_MSIS_StrUnf)"
   ]
  },
  {
   "cell_type": "code",
   "execution_count": 57,
   "id": "1cb2e312-2dcf-40eb-95e7-50be94d00eeb",
   "metadata": {},
   "outputs": [
    {
     "name": "stdout",
     "output_type": "stream",
     "text": [
      "lattice  :: rop: ≈2^121.8, red: ≈2^121.8, sieve: ≈2^-332.2, β: 417, η: 417, ζ: 125, d: 2179, prob: 1, ↻: 1, tag: infinity\n"
     ]
    }
   ],
   "source": [
    "r = SIS.estimate(schemes.Dilithium2_MSIS_StrUnf, red_cost_model=ADPS16(\"classical\"))"
   ]
  },
  {
   "cell_type": "code",
   "execution_count": null,
   "id": "f32e8ef2-3f47-4ff9-be81-3bdbb843a41e",
   "metadata": {},
   "outputs": [],
   "source": [
    "r = SIS.estimate(schemes.Dilithium3_MSIS_WkUnf)"
   ]
  },
  {
   "cell_type": "code",
   "execution_count": null,
   "id": "44863124-f974-488d-8c6d-9cb95bc7112d",
   "metadata": {},
   "outputs": [],
   "source": [
    "r = SIS.estimate(schemes.Dilithium3_MSIS_WkUnf, red_cost_model=ADPS16(\"classical\"))"
   ]
  },
  {
   "cell_type": "code",
   "execution_count": null,
   "id": "8d018a7f-0a93-4e30-a969-e35e8987a2ab",
   "metadata": {},
   "outputs": [],
   "source": [
    "r = SIS.estimate(schemes.Dilithium3_MSIS_StrUnf)"
   ]
  },
  {
   "cell_type": "code",
   "execution_count": null,
   "id": "438f5468-d1fc-485b-8bbc-8836add69387",
   "metadata": {},
   "outputs": [],
   "source": [
    "r = SIS.estimate(schemes.Dilithium3_MSIS_StrUnf, red_cost_model=ADPS16(\"classical\"))"
   ]
  },
  {
   "cell_type": "code",
   "execution_count": null,
   "id": "c6466ac0-e617-4dc1-acbd-30a4b0ad07aa",
   "metadata": {},
   "outputs": [],
   "source": [
    "r = SIS.estimate(schemes.Dilithium5_MSIS_WkUnf)"
   ]
  },
  {
   "cell_type": "code",
   "execution_count": null,
   "id": "c435321e-52b5-463b-a2b2-91adaa8c574a",
   "metadata": {},
   "outputs": [],
   "source": [
    "r = SIS.estimate(schemes.Dilithium5_MSIS_WkUnf, red_cost_model=ADPS16(\"classical\"))"
   ]
  },
  {
   "cell_type": "code",
   "execution_count": null,
   "id": "02234cc2-fefe-4dd5-9957-a859d26bbc19",
   "metadata": {},
   "outputs": [],
   "source": [
    "r = SIS.estimate(schemes.Dilithium5_MSIS_StrUnf)"
   ]
  },
  {
   "cell_type": "code",
   "execution_count": null,
   "id": "75b28fb3-6b2e-48b9-8a5f-daefa5598795",
   "metadata": {},
   "outputs": [],
   "source": [
    "r = SIS.estimate(schemes.Dilithium5_MSIS_StrUnf, red_cost_model=ADPS16(\"classical\"))"
   ]
  }
 ],
 "metadata": {
  "kernelspec": {
   "display_name": "SageMath 9.0",
   "language": "sage",
   "name": "sagemath"
  },
  "language_info": {
   "codemirror_mode": {
    "name": "ipython",
    "version": 3
   },
   "file_extension": ".py",
   "mimetype": "text/x-python",
   "name": "python",
   "nbconvert_exporter": "python",
   "pygments_lexer": "ipython3",
   "version": "3.8.10"
  }
 },
 "nbformat": 4,
 "nbformat_minor": 5
}
